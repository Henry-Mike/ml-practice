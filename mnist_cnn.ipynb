{
 "cells": [
  {
   "cell_type": "markdown",
   "metadata": {
    "scrolled": true,
    "slideshow": {
     "slide_type": "notes"
    }
   },
   "source": [
    "## 使用 CNN 识别 MNIST 手写数字"
   ]
  },
  {
   "cell_type": "code",
   "execution_count": 1,
   "metadata": {},
   "outputs": [
    {
     "name": "stderr",
     "output_type": "stream",
     "text": [
      "Using TensorFlow backend.\n"
     ]
    }
   ],
   "source": [
    "import keras\n",
    "from keras.datasets import mnist\n",
    "from keras.utils import to_categorical\n",
    "from keras import models\n",
    "from keras import layers\n",
    "import matplotlib.pyplot as plt\n",
    "import numpy as np"
   ]
  },
  {
   "cell_type": "code",
   "execution_count": 2,
   "metadata": {},
   "outputs": [],
   "source": [
    "# 数据预处理\n",
    "(train_images, train_labels), (test_images, test_labels) = mnist.load_data()\n",
    "\n",
    "x_train = np.expand_dims(train_images, -1)\n",
    "x_train = x_train / 255.0\n",
    "x_test = np.expand_dims(test_images, -1)\n",
    "x_test = x_test / 255.0\n",
    "\n",
    "y_train = to_categorical(train_labels)\n",
    "y_test = to_categorical(test_labels)"
   ]
  },
  {
   "cell_type": "code",
   "execution_count": 3,
   "metadata": {},
   "outputs": [
    {
     "name": "stdout",
     "output_type": "stream",
     "text": [
      "(60000, 28, 28, 1)\n",
      "(10000, 28, 28, 1)\n",
      "(60000, 10)\n",
      "(10000, 10)\n"
     ]
    }
   ],
   "source": [
    "# 查看数据\n",
    "print(x_train.shape)\n",
    "print(x_test.shape)\n",
    "print(y_train.shape)\n",
    "print(y_test.shape)"
   ]
  },
  {
   "cell_type": "code",
   "execution_count": 4,
   "metadata": {},
   "outputs": [
    {
     "data": {
      "image/png": "[encoded data removed]",
      "text/plain": [
       "<Figure size 432x288 with 1 Axes>"
      ]
     },
     "metadata": {
      "needs_background": "light"
     },
     "output_type": "display_data"
    },
    {
     "name": "stdout",
     "output_type": "stream",
     "text": [
      "[[0. 0. 0. 0. 0. 1. 0. 0. 0. 0.]\n",
      " [1. 0. 0. 0. 0. 0. 0. 0. 0. 0.]\n",
      " [0. 0. 0. 0. 1. 0. 0. 0. 0. 0.]\n",
      " [0. 1. 0. 0. 0. 0. 0. 0. 0. 0.]\n",
      " [0. 0. 0. 0. 0. 0. 0. 0. 0. 1.]]\n"
     ]
    }
   ],
   "source": [
    "images = np.rollaxis(x_train[:5, :, :, 0], 1).reshape((28, -1))\n",
    "plt.imshow(images)\n",
    "plt.show()\n",
    "print(y_train[:5])"
   ]
  },
  {
   "cell_type": "code",
   "execution_count": 5,
   "metadata": {},
   "outputs": [
    {
     "name": "stdout",
     "output_type": "stream",
     "text": [
      "WARNING:tensorflow:From C:\\Users\\haley\\AppData\\Roaming\\Python\\Python36\\site-packages\\tensorflow\\python\\framework\\op_def_library.py:263: colocate_with (from tensorflow.python.framework.ops) is deprecated and will be removed in a future version.\n",
      "Instructions for updating:\n",
      "Colocations handled automatically by placer.\n",
      "_________________________________________________________________\n",
      "Layer (type)                 Output Shape              Param #   \n",
      "=================================================================\n",
      "conv2d_1 (Conv2D)            (None, 26, 26, 32)        320       \n",
      "_________________________________________________________________\n",
      "max_pooling2d_1 (MaxPooling2 (None, 13, 13, 32)        0         \n",
      "_________________________________________________________________\n",
      "conv2d_2 (Conv2D)            (None, 11, 11, 64)        18496     \n",
      "_________________________________________________________________\n",
      "max_pooling2d_2 (MaxPooling2 (None, 5, 5, 64)          0         \n",
      "_________________________________________________________________\n",
      "conv2d_3 (Conv2D)            (None, 3, 3, 128)         73856     \n",
      "_________________________________________________________________\n",
      "flatten_1 (Flatten)          (None, 1152)              0         \n",
      "_________________________________________________________________\n",
      "dense_1 (Dense)              (None, 256)               295168    \n",
      "_________________________________________________________________\n",
      "dense_2 (Dense)              (None, 10)                2570      \n",
      "=================================================================\n",
      "Total params: 390,410\n",
      "Trainable params: 390,410\n",
      "Non-trainable params: 0\n",
      "_________________________________________________________________\n"
     ]
    }
   ],
   "source": [
    "# 构建模型\n",
    "model = models.Sequential()\n",
    "model.add(layers.Conv2D(32, (3, 3), activation='relu', input_shape=(28, 28, 1)))\n",
    "model.add(layers.MaxPooling2D())\n",
    "model.add(layers.Conv2D(64, (3, 3), activation='relu'))\n",
    "model.add(layers.MaxPooling2D())\n",
    "model.add(layers.Conv2D(128, (3, 3), activation='relu'))\n",
    "model.add(layers.Flatten())\n",
    "model.add(layers.Dense(256, activation='relu'))\n",
    "model.add(layers.Dense(10, activation='softmax'))\n",
    "model.summary()"
   ]
  },
  {
   "cell_type": "code",
   "execution_count": 6,
   "metadata": {},
   "outputs": [],
   "source": [
    "# 编译模型\n",
    "model.compile(optimizer='rmsprop', loss='categorical_crossentropy', metrics=['acc'])"
   ]
  },
  {
   "cell_type": "code",
   "execution_count": 7,
   "metadata": {},
   "outputs": [
    {
     "name": "stdout",
     "output_type": "stream",
     "text": [
      "WARNING:tensorflow:From C:\\Users\\haley\\AppData\\Roaming\\Python\\Python36\\site-packages\\tensorflow\\python\\ops\\math_ops.py:3066: to_int32 (from tensorflow.python.ops.math_ops) is deprecated and will be removed in a future version.\n",
      "Instructions for updating:\n",
      "Use tf.cast instead.\n",
      "Train on 51000 samples, validate on 9000 samples\n",
      "Epoch 1/20\n",
      "51000/51000 [==============================] - 10s 202us/step - loss: 0.3096 - acc: 0.9036 - val_loss: 0.0657 - val_acc: 0.9810\n",
      "Epoch 2/20\n",
      "51000/51000 [==============================] - 7s 129us/step - loss: 0.0616 - acc: 0.9805 - val_loss: 0.0865 - val_acc: 0.9714\n",
      "Epoch 3/20\n",
      "51000/51000 [==============================] - 7s 129us/step - loss: 0.0392 - acc: 0.9877 - val_loss: 0.0456 - val_acc: 0.9869\n",
      "Epoch 4/20\n",
      "51000/51000 [==============================] - 7s 129us/step - loss: 0.0278 - acc: 0.9916 - val_loss: 0.0603 - val_acc: 0.9814\n",
      "Epoch 5/20\n",
      "51000/51000 [==============================] - 7s 130us/step - loss: 0.0207 - acc: 0.9933 - val_loss: 0.0379 - val_acc: 0.9898\n",
      "Epoch 6/20\n",
      "51000/51000 [==============================] - 7s 129us/step - loss: 0.0163 - acc: 0.9953 - val_loss: 0.0582 - val_acc: 0.9841\n",
      "Epoch 7/20\n",
      "51000/51000 [==============================] - 7s 130us/step - loss: 0.0130 - acc: 0.9959 - val_loss: 0.0364 - val_acc: 0.9912\n",
      "Epoch 8/20\n",
      "51000/51000 [==============================] - 7s 129us/step - loss: 0.0100 - acc: 0.9966 - val_loss: 0.0488 - val_acc: 0.9882\n",
      "Epoch 9/20\n",
      "51000/51000 [==============================] - 7s 130us/step - loss: 0.0089 - acc: 0.9971 - val_loss: 0.0472 - val_acc: 0.9898\n",
      "Epoch 10/20\n",
      "51000/51000 [==============================] - 7s 130us/step - loss: 0.0077 - acc: 0.9976 - val_loss: 0.0505 - val_acc: 0.9892\n"
     ]
    }
   ],
   "source": [
    "# 训练模型\n",
    "callbacks = [\n",
    "    keras.callbacks.EarlyStopping(monitor='val_acc', patience=3),\n",
    "    keras.callbacks.ModelCheckpoint(filepath='./trained_models/mnist_cnn_weights.h5', monitor='val_loss', save_best_only=True),\n",
    "]\n",
    "history = model.fit(x_train, y_train, batch_size=256, epochs=20, validation_split=0.15, callbacks=callbacks)"
   ]
  },
  {
   "cell_type": "code",
   "execution_count": 8,
   "metadata": {},
   "outputs": [
    {
     "data": {
      "image/png": "[encoded data removed]",
      "text/plain": [
       "<Figure size 576x288 with 2 Axes>"
      ]
     },
     "metadata": {
      "needs_background": "light"
     },
     "output_type": "display_data"
    }
   ],
   "source": [
    "# 绘制训练过程\n",
    "from util import plot_history\n",
    "\n",
    "plot_history(history)"
   ]
  },
  {
   "cell_type": "code",
   "execution_count": 9,
   "metadata": {},
   "outputs": [
    {
     "name": "stdout",
     "output_type": "stream",
     "text": [
      "10000/10000 [==============================] - 1s 106us/step\n",
      "test loss: 0.034943732182651226, test accuracy: 0.9911\n"
     ]
    }
   ],
   "source": [
    "# 测试模型\n",
    "loss, accuracy = model.evaluate(x_test, y_test)\n",
    "print('test loss: {}, test accuracy: {}'.format(loss, accuracy))"
   ]
  },
  {
   "cell_type": "code",
   "execution_count": 10,
   "metadata": {},
   "outputs": [
    {
     "data": {
      "image/png": "[encoded data removed]",
      "text/plain": [
       "<Figure size 432x288 with 1 Axes>"
      ]
     },
     "metadata": {
      "needs_background": "light"
     },
     "output_type": "display_data"
    },
    {
     "name": "stdout",
     "output_type": "stream",
     "text": [
      "[7 2 1 0 4 1 4 9 5 9]\n"
     ]
    }
   ],
   "source": [
    "# 模型实践\n",
    "images = np.rollaxis(x_test[:10, :, :, 0], 1).reshape((28, -1))\n",
    "plt.imshow(images)\n",
    "plt.show()\n",
    "predicted = model.predict(x_test[:10]).argmax(axis=1)\n",
    "print(predicted)"
   ]
  }
 ],
 "metadata": {
  "celltoolbar": "Raw Cell Format",
  "kernelspec": {
   "display_name": "Python 3",
   "language": "python",
   "name": "python3"
  },
  "language_info": {
   "codemirror_mode": {
    "name": "ipython",
    "version": 3
   },
   "file_extension": ".py",
   "mimetype": "text/x-python",
   "name": "python",
   "nbconvert_exporter": "python",
   "pygments_lexer": "ipython3",
   "version": "3.6.8"
  }
 },
 "nbformat": 4,
 "nbformat_minor": 2
}
