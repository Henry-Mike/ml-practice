{
 "cells": [
  {
   "cell_type": "code",
   "execution_count": 1,
   "metadata": {
    "scrolled": false
   },
   "outputs": [
    {
     "name": "stderr",
     "output_type": "stream",
     "text": [
      "Using TensorFlow backend.\n"
     ]
    }
   ],
   "source": [
    "from keras import models\n",
    "from keras import layers\n",
    "\n",
    "def build_network(hidden_layer_size, output_size=10):\n",
    "    network = models.Sequential()\n",
    "    network.add(layers.Dense(hidden_layer_size, activation='relu', input_shape=(28*28,)))\n",
    "    network.add(layers.Dense(output_size, activation='softmax'))\n",
    "    \n",
    "    network.compile(optimizer='rmsprop',\n",
    "                    loss='categorical_crossentropy',\n",
    "                    metrics=['accuracy'])\n",
    "    return network"
   ]
  },
  {
   "cell_type": "code",
   "execution_count": 2,
   "metadata": {
    "scrolled": false
   },
   "outputs": [],
   "source": [
    "from keras.datasets import mnist\n",
    "from keras.utils import to_categorical\n",
    "\n",
    "def prepare_data():\n",
    "    (x_train, y_train), (x_test, y_test) = mnist.load_data()\n",
    "\n",
    "    x_train = x_train.reshape((-1, 28*28))\n",
    "    x_train = x_train.astype('float32')/255\n",
    "\n",
    "    x_test = x_test.reshape((-1, 28*28))\n",
    "    x_test = x_test.astype('float32')/255\n",
    "    \n",
    "    y_train = to_categorical(y_train)\n",
    "    y_test = to_categorical(y_test)\n",
    "    \n",
    "    return x_train, y_train, x_test, y_test"
   ]
  },
  {
   "cell_type": "code",
   "execution_count": 4,
   "metadata": {
    "scrolled": false
   },
   "outputs": [],
   "source": [
    "network = build_network(512)\n",
    "x_train, y_train, x_test, y_test = prepare_data()"
   ]
  },
  {
   "cell_type": "code",
   "execution_count": 5,
   "metadata": {
    "scrolled": true
   },
   "outputs": [
    {
     "name": "stdout",
     "output_type": "stream",
     "text": [
      "WARNING:tensorflow:From /Users/douyujie1/anaconda/lib/python3.5/site-packages/tensorflow/python/ops/math_ops.py:3066: to_int32 (from tensorflow.python.ops.math_ops) is deprecated and will be removed in a future version.\n",
      "Instructions for updating:\n",
      "Use tf.cast instead.\n",
      "Train on 48000 samples, validate on 12000 samples\n",
      "Epoch 1/20\n",
      "48000/48000 [==============================] - 2s 39us/step - loss: 0.2882 - acc: 0.9164 - val_loss: 0.1631 - val_acc: 0.9552\n",
      "Epoch 2/20\n",
      "48000/48000 [==============================] - 2s 34us/step - loss: 0.1187 - acc: 0.9651 - val_loss: 0.1113 - val_acc: 0.9654\n",
      "Epoch 3/20\n",
      "48000/48000 [==============================] - 2s 35us/step - loss: 0.0767 - acc: 0.9775 - val_loss: 0.0887 - val_acc: 0.9728\n",
      "Epoch 4/20\n",
      "48000/48000 [==============================] - 2s 35us/step - loss: 0.0553 - acc: 0.9840 - val_loss: 0.0833 - val_acc: 0.9742\n",
      "Epoch 5/20\n",
      "48000/48000 [==============================] - 2s 37us/step - loss: 0.0400 - acc: 0.9880 - val_loss: 0.0816 - val_acc: 0.9757\n",
      "Epoch 6/20\n",
      "48000/48000 [==============================] - 2s 35us/step - loss: 0.0302 - acc: 0.9915 - val_loss: 0.0816 - val_acc: 0.9767\n",
      "Epoch 7/20\n",
      "48000/48000 [==============================] - 2s 39us/step - loss: 0.0235 - acc: 0.9933 - val_loss: 0.0766 - val_acc: 0.9793\n",
      "Epoch 8/20\n",
      "48000/48000 [==============================] - 2s 35us/step - loss: 0.0168 - acc: 0.9956 - val_loss: 0.0864 - val_acc: 0.9781\n",
      "Epoch 9/20\n",
      "48000/48000 [==============================] - 2s 36us/step - loss: 0.0133 - acc: 0.9963 - val_loss: 0.0898 - val_acc: 0.9757\n",
      "Epoch 10/20\n",
      "48000/48000 [==============================] - 2s 36us/step - loss: 0.0100 - acc: 0.9972 - val_loss: 0.0849 - val_acc: 0.9790\n",
      "Epoch 11/20\n",
      "48000/48000 [==============================] - 2s 37us/step - loss: 0.0070 - acc: 0.9981 - val_loss: 0.0939 - val_acc: 0.9779\n",
      "Epoch 12/20\n",
      "48000/48000 [==============================] - 2s 37us/step - loss: 0.0058 - acc: 0.9984 - val_loss: 0.0969 - val_acc: 0.9786\n",
      "Epoch 13/20\n",
      "48000/48000 [==============================] - 2s 38us/step - loss: 0.0044 - acc: 0.9989 - val_loss: 0.0898 - val_acc: 0.9804\n",
      "Epoch 14/20\n",
      "48000/48000 [==============================] - 2s 38us/step - loss: 0.0035 - acc: 0.9991 - val_loss: 0.0955 - val_acc: 0.9796\n",
      "Epoch 15/20\n",
      "48000/48000 [==============================] - 2s 44us/step - loss: 0.0027 - acc: 0.9994 - val_loss: 0.0995 - val_acc: 0.9788\n",
      "Epoch 16/20\n",
      "48000/48000 [==============================] - 2s 47us/step - loss: 0.0019 - acc: 0.9996 - val_loss: 0.1069 - val_acc: 0.9801\n",
      "Epoch 17/20\n",
      "48000/48000 [==============================] - 2s 41us/step - loss: 0.0017 - acc: 0.9996 - val_loss: 0.1070 - val_acc: 0.9798\n",
      "Epoch 18/20\n",
      "48000/48000 [==============================] - 2s 40us/step - loss: 0.0012 - acc: 0.9997 - val_loss: 0.1049 - val_acc: 0.9811\n",
      "Epoch 19/20\n",
      "48000/48000 [==============================] - 2s 41us/step - loss: 0.0010 - acc: 0.9998 - val_loss: 0.1091 - val_acc: 0.9801\n",
      "Epoch 20/20\n",
      "48000/48000 [==============================] - 2s 41us/step - loss: 5.7764e-04 - acc: 0.9999 - val_loss: 0.1136 - val_acc: 0.9807\n"
     ]
    }
   ],
   "source": [
    "history = network.fit(x_train, y_train, epochs=20, batch_size=128, validation_split=0.2)"
   ]
  },
  {
   "cell_type": "code",
   "execution_count": 6,
   "metadata": {
    "scrolled": false
   },
   "outputs": [
    {
     "data": {
      "text/plain": [
       "<Figure size 800x400 with 2 Axes>"
      ]
     },
     "metadata": {},
     "output_type": "display_data"
    }
   ],
   "source": [
    "from util import plot_history\n",
    "\n",
    "plot_history(history)"
   ]
  },
  {
   "cell_type": "code",
   "execution_count": 17,
   "metadata": {
    "scrolled": false
   },
   "outputs": [
    {
     "name": "stdout",
     "output_type": "stream",
     "text": [
      "10000/10000 [==============================] - 0s 24us/step\n",
      "test acc: 0.8852\n"
     ]
    }
   ],
   "source": [
    "test_loss, test_acc = network.evaluate(x_test, y_test)\n",
    "print('test acc:', test_acc)"
   ]
  },
  {
   "cell_type": "code",
   "execution_count": 18,
   "metadata": {
    "scrolled": true
   },
   "outputs": [
    {
     "name": "stdout",
     "output_type": "stream",
     "text": [
      "Train on 1000 samples, validate on 59000 samples\n",
      "Epoch 1/20\n",
      "1000/1000 [==============================] - 1s 722us/step - loss: 1.4972 - acc: 0.5500 - val_loss: 1.0020 - val_acc: 0.7422\n",
      "Epoch 2/20\n",
      "1000/1000 [==============================] - 0s 474us/step - loss: 0.7285 - acc: 0.8290 - val_loss: 0.6960 - val_acc: 0.8259\n",
      "Epoch 3/20\n",
      "1000/1000 [==============================] - 0s 467us/step - loss: 0.5153 - acc: 0.8820 - val_loss: 0.6032 - val_acc: 0.8362\n",
      "Epoch 4/20\n",
      "1000/1000 [==============================] - 0s 468us/step - loss: 0.4053 - acc: 0.9070 - val_loss: 0.5547 - val_acc: 0.8439\n",
      "Epoch 5/20\n",
      "1000/1000 [==============================] - 0s 464us/step - loss: 0.3378 - acc: 0.9270 - val_loss: 0.4825 - val_acc: 0.8656\n",
      "Epoch 6/20\n",
      "1000/1000 [==============================] - 0s 492us/step - loss: 0.2815 - acc: 0.9340 - val_loss: 0.4580 - val_acc: 0.8675\n",
      "Epoch 7/20\n",
      "1000/1000 [==============================] - 0s 496us/step - loss: 0.2381 - acc: 0.9490 - val_loss: 0.4373 - val_acc: 0.8728\n",
      "Epoch 8/20\n",
      "1000/1000 [==============================] - 1s 606us/step - loss: 0.2014 - acc: 0.9610 - val_loss: 0.4278 - val_acc: 0.8753\n",
      "Epoch 9/20\n",
      "1000/1000 [==============================] - 0s 464us/step - loss: 0.1728 - acc: 0.9690 - val_loss: 0.4337 - val_acc: 0.8700\n",
      "Epoch 10/20\n",
      "1000/1000 [==============================] - 0s 465us/step - loss: 0.1424 - acc: 0.9820 - val_loss: 0.4292 - val_acc: 0.8695\n",
      "Epoch 11/20\n",
      "1000/1000 [==============================] - 0s 466us/step - loss: 0.1280 - acc: 0.9750 - val_loss: 0.4411 - val_acc: 0.8627\n",
      "Epoch 12/20\n",
      "1000/1000 [==============================] - 0s 463us/step - loss: 0.1051 - acc: 0.9860 - val_loss: 0.4269 - val_acc: 0.8728\n",
      "Epoch 13/20\n",
      "1000/1000 [==============================] - 0s 463us/step - loss: 0.0884 - acc: 0.9900 - val_loss: 0.4132 - val_acc: 0.8726\n",
      "Epoch 14/20\n",
      "1000/1000 [==============================] - 0s 465us/step - loss: 0.0814 - acc: 0.9900 - val_loss: 0.4213 - val_acc: 0.8779\n",
      "Epoch 15/20\n",
      "1000/1000 [==============================] - 0s 464us/step - loss: 0.0614 - acc: 0.9960 - val_loss: 0.3917 - val_acc: 0.8833\n",
      "Epoch 16/20\n",
      "1000/1000 [==============================] - 0s 469us/step - loss: 0.0525 - acc: 0.9970 - val_loss: 0.4224 - val_acc: 0.8756\n",
      "Epoch 17/20\n",
      "1000/1000 [==============================] - 0s 463us/step - loss: 0.0460 - acc: 0.9990 - val_loss: 0.4303 - val_acc: 0.8731\n",
      "Epoch 18/20\n",
      "1000/1000 [==============================] - 0s 468us/step - loss: 0.0387 - acc: 1.0000 - val_loss: 0.4222 - val_acc: 0.8784\n",
      "Epoch 19/20\n",
      "1000/1000 [==============================] - 0s 468us/step - loss: 0.0310 - acc: 1.0000 - val_loss: 0.4281 - val_acc: 0.8772\n",
      "Epoch 20/20\n",
      "1000/1000 [==============================] - 0s 466us/step - loss: 0.0254 - acc: 1.0000 - val_loss: 0.4362 - val_acc: 0.8758\n"
     ]
    }
   ],
   "source": [
    "network = build_network(256)\n",
    "history2 = network.fit(x_train, y_train, epochs=20, batch_size=128, validation_split=0.2)"
   ]
  },
  {
   "cell_type": "code",
   "execution_count": 19,
   "metadata": {
    "scrolled": false
   },
   "outputs": [
    {
     "data": {
      "image/png": "[encoded data removed]",
      "text/plain": [
       "<Figure size 576x288 with 2 Axes>"
      ]
     },
     "metadata": {
      "needs_background": "light"
     },
     "output_type": "display_data"
    }
   ],
   "source": [
    "plot_history(history2)"
   ]
  },
  {
   "cell_type": "code",
   "execution_count": 20,
   "metadata": {
    "scrolled": false
   },
   "outputs": [
    {
     "name": "stdout",
     "output_type": "stream",
     "text": [
      "10000/10000 [==============================] - 0s 20us/step\n",
      "test acc: 0.8803\n"
     ]
    }
   ],
   "source": [
    "test_loss, test_acc = network.evaluate(x_test, y_test)\n",
    "print('test acc:', test_acc)"
   ]
  },
  {
   "cell_type": "code",
   "execution_count": 21,
   "metadata": {
    "scrolled": false
   },
   "outputs": [
    {
     "data": {
      "image/png": "[encoded data removed]",
      "text/plain": [
       "<Figure size 576x288 with 2 Axes>"
      ]
     },
     "metadata": {
      "needs_background": "light"
     },
     "output_type": "display_data"
    }
   ],
   "source": [
    "from util import compare_history\n",
    "\n",
    "compare_history(history, history2)"
   ]
  },
  {
   "cell_type": "code",
   "execution_count": null,
   "metadata": {},
   "outputs": [],
   "source": []
  }
 ],
 "metadata": {
  "kernelspec": {
   "display_name": "Python 3",
   "language": "python",
   "name": "python3"
  },
  "language_info": {
   "codemirror_mode": {
    "name": "ipython",
    "version": 3
   },
   "file_extension": ".py",
   "mimetype": "text/x-python",
   "name": "python",
   "nbconvert_exporter": "python",
   "pygments_lexer": "ipython3",
   "version": "3.5.6"
  }
 },
 "nbformat": 4,
 "nbformat_minor": 1
}
